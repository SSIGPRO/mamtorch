{
 "cells": [
  {
   "cell_type": "code",
   "execution_count": 1,
   "id": "c453b48c-0364-41f9-a7f9-584aaf5af1ea",
   "metadata": {
    "tags": []
   },
   "outputs": [],
   "source": [
    "import time\n",
    "import numpy as np\n",
    "import matplotlib.pyplot as plt\n",
    "import torch\n",
    "import torch.nn as nn\n",
    "import torch.optim as optim\n",
    "from torchvision import datasets, transforms"
   ]
  },
  {
   "cell_type": "markdown",
   "id": "69cbf6bb-c63a-4c5c-ad11-1bffcf8e7805",
   "metadata": {
    "tags": []
   },
   "source": [
    "### Import mamtorch library\n",
    "To install mamtorch, in mamtorch root folder, \"pip install .\" (to improve compiling time, do this after installing ninja through \"pip install ninja\")"
   ]
  },
  {
   "cell_type": "code",
   "execution_count": 2,
   "id": "0fbd1d77-917f-4ece-b5d4-f57cf1d7bd9c",
   "metadata": {
    "tags": []
   },
   "outputs": [],
   "source": [
    "import mamtorch as mam"
   ]
  },
  {
   "cell_type": "markdown",
   "id": "ae1899e5-978d-454a-a560-cb4813660f9e",
   "metadata": {
    "tags": []
   },
   "source": [
    "### Select the GPU\n",
    "Currently, MAM kernels are implemented only for usage on GPU"
   ]
  },
  {
   "cell_type": "code",
   "execution_count": 3,
   "id": "42ec364b-ce3d-4f2a-b40e-8bc8981c43c5",
   "metadata": {
    "tags": []
   },
   "outputs": [],
   "source": [
    "# Select GPU\n",
    "gpu_id = 0\n",
    "# Check if the GPU is available, and if so, use it\n",
    "device = torch.device(f\"cuda:{gpu_id}\" if torch.cuda.is_available() else \"cpu\")\n",
    "# You need a gpu to use MAM kernel! (No cpu-based implementation available)\n",
    "if(device == \"cpu\"):\n",
    "    raise \"No GPU device available! MAM kernels are not available.\""
   ]
  },
  {
   "cell_type": "markdown",
   "id": "9be7e2ad-bf12-419f-a122-a85d265d799e",
   "metadata": {
    "tags": []
   },
   "source": [
    "### Define a simple feedforward DNN containing a MAM layer"
   ]
  },
  {
   "cell_type": "code",
   "execution_count": 4,
   "id": "331b63f4-583b-4f30-bdd4-4380f1d92d58",
   "metadata": {
    "tags": []
   },
   "outputs": [],
   "source": [
    "# Define a simple feedforward neural network\n",
    "class SimpleNN(nn.Module):\n",
    "    def __init__(self, input_size, hidden_size1, hidden_size2, num_classes):\n",
    "        super(SimpleNN, self).__init__()\n",
    "        # Instantiate a MAC fc layer\n",
    "        self.fc1 = nn.Linear(input_size, hidden_size1)\n",
    "        self.relu1 = nn.ReLU()\n",
    "        \n",
    "        # Instantiate a MAM fc layer\n",
    "        self.fc2_mam = mam.nn.FullyConnected(hidden_size1, hidden_size2, bias=True, splits=2, vcon_steps=4, vcon_type='exponential', compute_exact=False)\n",
    "        self.relu2 = nn.ReLU()\n",
    "        \n",
    "        # Instantiate the output layer\n",
    "        self.fc3 = nn.Linear(hidden_size2, num_classes)\n",
    "\n",
    "    def forward(self, x):\n",
    "        x = self.fc1(x)\n",
    "        x = self.relu1(x)\n",
    "        x = self.fc2_mam(x)\n",
    "        x = self.relu2(x)\n",
    "        x = self.fc3(x)\n",
    "        return x\n",
    "    \n",
    "# Hyperparameters\n",
    "input_size = 28 * 28  # MNIST image size\n",
    "hidden_size1 = 512\n",
    "hidden_size2 = 256\n",
    "num_classes = 10\n",
    "learning_rate = 0.001\n",
    "batch_size = 64\n",
    "num_epochs = 10"
   ]
  },
  {
   "cell_type": "markdown",
   "id": "b74fe1d2-ac19-4570-b311-ab984865dac6",
   "metadata": {
    "tags": []
   },
   "source": [
    "Load MNIST dataset and apply transformations"
   ]
  },
  {
   "cell_type": "code",
   "execution_count": 5,
   "id": "902c52ec-cf35-4712-a285-23257c6e4960",
   "metadata": {
    "tags": []
   },
   "outputs": [],
   "source": [
    "num_workers = 2 # increase this to use more threads to manage data\n",
    "\n",
    "transform = transforms.Compose([transforms.ToTensor(), transforms.Normalize((0.5,), (0.5,))])\n",
    "train_dataset = datasets.FashionMNIST(root='./data', train=True, transform=transform, download=True)\n",
    "train_loader = torch.utils.data.DataLoader(dataset=train_dataset, batch_size=batch_size, shuffle=True)\n",
    "valtest_dataset = datasets.FashionMNIST(root='./data', train=False, transform=transform, download=True)\n",
    "val_dataset, test_dataset = torch.utils.data.random_split(valtest_dataset, [0.5, 0.5], generator=torch.Generator().manual_seed(42))\n",
    "val_loader = torch.utils.data.DataLoader(val_dataset, batch_size=batch_size, shuffle=True, num_workers=num_workers, pin_memory=True)\n",
    "test_loader = torch.utils.data.DataLoader(test_dataset, batch_size=batch_size, shuffle=False, num_workers=num_workers, pin_memory=True)"
   ]
  },
  {
   "cell_type": "markdown",
   "id": "5f3c1f59-a927-43cd-b13d-f709316049ad",
   "metadata": {
    "tags": []
   },
   "source": [
    "Initialize the model, loss function, and optimizer"
   ]
  },
  {
   "cell_type": "code",
   "execution_count": 6,
   "id": "5ac67d50-250c-4f8d-bffe-1e828fb94362",
   "metadata": {
    "tags": []
   },
   "outputs": [],
   "source": [
    "model = SimpleNN(input_size, hidden_size1, hidden_size2, num_classes).to(device)\n",
    "criterion = nn.CrossEntropyLoss()\n",
    "optimizer = optim.Adam(model.parameters(), lr=learning_rate)"
   ]
  },
  {
   "cell_type": "markdown",
   "id": "754e2f5c-4e59-41ff-ae30-d66e1daabe62",
   "metadata": {
    "tags": []
   },
   "source": [
    "### Train the network"
   ]
  },
  {
   "cell_type": "code",
   "execution_count": 7,
   "id": "05729cd3-8f17-4235-acd1-4263fc555306",
   "metadata": {
    "tags": []
   },
   "outputs": [
    {
     "name": "stdout",
     "output_type": "stream",
     "text": [
      "Epoch [1/10]\n",
      "Training [938/938], Loss: 7.589e-03, Acc: 82.2%\n",
      "Validation [79/79], Loss: 7.133e-03, Acc: 83.6%%\n",
      "Latest beta value: 1.0\n",
      "Elapsed time = 16.938 s\n",
      "Epoch [2/10]\n",
      "Training [938/938], Loss: 5.711e-03, Acc: 86.6%\n",
      "Validation [79/79], Loss: 5.675e-03, Acc: 87.3%%\n",
      "Latest beta value: 0.1778279410038923\n",
      "Elapsed time = 16.932 s\n",
      "Epoch [3/10]\n",
      "Training [938/938], Loss: 5.127e-03, Acc: 87.9%\n",
      "Validation [79/79], Loss: 5.565e-03, Acc: 87.6%%\n",
      "Latest beta value: 0.0316227766016838\n",
      "Elapsed time = 17.069 s\n",
      "Epoch [4/10]\n",
      "Training [938/938], Loss: 4.688e-03, Acc: 89.0%\n",
      "Validation [79/79], Loss: 5.692e-03, Acc: 87.2%%\n",
      "Latest beta value: 0.005623413251903492\n",
      "Elapsed time = 16.756 s\n",
      "Epoch [5/10]\n",
      "Training [938/938], Loss: 4.391e-03, Acc: 89.5%\n",
      "Validation [79/79], Loss: 5.323e-03, Acc: 87.8%%\n",
      "Latest beta value: 0.0010000000000000002\n",
      "Elapsed time = 16.844 s\n",
      "Epoch [6/10]\n",
      "Training [938/938], Loss: 4.220e-03, Acc: 89.9%\n",
      "Validation [79/79], Loss: 5.378e-03, Acc: 88.1%%\n",
      "Latest beta value: 0\n",
      "Elapsed time = 16.554 s\n",
      "Epoch [7/10]\n",
      "Training [938/938], Loss: 4.006e-03, Acc: 90.4%\n",
      "Validation [79/79], Loss: 5.307e-03, Acc: 87.7%%\n",
      "Latest beta value: 0\n",
      "Elapsed time = 16.710 s\n",
      "Epoch [8/10]\n",
      "Training [938/938], Loss: 3.801e-03, Acc: 90.9%\n",
      "Validation [79/79], Loss: 5.080e-03, Acc: 88.7%%\n",
      "Latest beta value: 0\n",
      "Elapsed time = 16.698 s\n",
      "Epoch [9/10]\n",
      "Training [938/938], Loss: 3.645e-03, Acc: 91.3%\n",
      "Validation [79/79], Loss: 5.375e-03, Acc: 88.5%%\n",
      "Latest beta value: 0\n",
      "Elapsed time = 16.563 s\n",
      "Epoch [10/10]\n",
      "Training [938/938], Loss: 3.500e-03, Acc: 91.6%\n",
      "Validation [79/79], Loss: 5.264e-03, Acc: 88.7%%\n",
      "Latest beta value: 0\n",
      "Elapsed time = 16.941 s\n",
      "Training end.\n"
     ]
    }
   ],
   "source": [
    "# Initialize the selection matrix list.\n",
    "# Here, for each training epoch, we store the number of times each interconnection has been used\n",
    "# I.E., the selection count\n",
    "selection_matrix_list = []\n",
    "\n",
    "# Training loop\n",
    "for epoch in range(num_epochs):\n",
    "    start_time = time.perf_counter()\n",
    "    print(f\"Epoch [{epoch + 1}/{num_epochs}]\")\n",
    "\n",
    "    model.train() # se training mode\n",
    "\n",
    "    correct = 0\n",
    "    total = 0\n",
    "    running_loss = 0\n",
    "    total_step = len(train_loader)\n",
    "    for i, (images, labels) in enumerate(train_loader):\n",
    "        images = images.view(-1, 28 * 28).to(device)  # Flatten the input images\n",
    "        outputs = model(images)\n",
    "        loss = criterion(outputs, labels.to(device))\n",
    "\n",
    "        optimizer.zero_grad()\n",
    "        loss.backward()\n",
    "        optimizer.step()\n",
    "\n",
    "        running_loss += loss.item()\n",
    "\n",
    "        # get the predicted class\n",
    "        _, predicted = torch.max(outputs.data, 1)\n",
    "\n",
    "        # evaluate the correct values agaist the total evaluated\n",
    "        correct += (predicted == labels.to(device)).sum().item()\n",
    "        total += labels.size(0)\n",
    "\n",
    "        print(f'Training [{i + 1}/{total_step}], Loss: {running_loss/total:.3e}, Acc: {correct/total*100:.1f}%', end='\\r')\n",
    "    print(f'Training [{total_step}/{total_step}], Loss: {running_loss/total:.3e}, Acc: {correct/total*100:.1f}%')\n",
    "    \n",
    "    model.eval() # set evaluation mode\n",
    "    \n",
    "    correct = 0\n",
    "    total = 0\n",
    "    running_loss = 0\n",
    "    total_step = len(val_loader)\n",
    "    for images, labels in val_loader:\n",
    "        images = images.view(-1, 28 * 28).to(device)  # Flatten the input images\n",
    "        outputs = model(images)\n",
    "        loss = criterion(outputs, labels.to(device))\n",
    "        \n",
    "        running_loss += loss\n",
    "        \n",
    "        # get the predicted class\n",
    "        _, predicted = torch.max(outputs.data, 1)\n",
    "        \n",
    "        # evaluate the correct values agaist the total evaluated\n",
    "        correct += (predicted == labels.to(device)).sum().item()\n",
    "        total += labels.size(0)\n",
    "\n",
    "        print(f'Validation [{i + 1}/{total_step}], Loss: {running_loss/total:.3e}, Acc: {correct/total*100:.1f}%', end='\\r')\n",
    "    print(f'Validation [{total_step}/{total_step}], Loss: {running_loss/total:.3e}, Acc: {correct/total*100:.1f}%')\n",
    "    \n",
    "    # update the value of beta for vanishing contributes\n",
    "    print(\"Latest beta value:\", model.fc2_mam.beta)\n",
    "    model.fc2_mam.vcon_step()\n",
    "    \n",
    "    print(f\"Elapsed time = {time.perf_counter()-start_time:.3f} s\")\n",
    "    \n",
    "print(\"Training end.\")"
   ]
  },
  {
   "cell_type": "code",
   "execution_count": 8,
   "id": "887b0ceb",
   "metadata": {},
   "outputs": [
    {
     "name": "stdout",
     "output_type": "stream",
     "text": [
      "Test [79/79], Loss: 5.404e-03, Acc: 87.4%%\n"
     ]
    }
   ],
   "source": [
    "# Test the model on the test dataset\n",
    "model.eval() # set evaluation mode\n",
    "\n",
    "correct = 0\n",
    "total = 0\n",
    "running_loss = 0\n",
    "total_step = len(val_loader)\n",
    "for images, labels in test_loader:\n",
    "    images = images.view(-1, 28 * 28).to(device)  # Flatten the input images\n",
    "    outputs = model(images)\n",
    "    loss = criterion(outputs, labels.to(device))\n",
    "    \n",
    "    running_loss += loss\n",
    "    \n",
    "    # get the predicted class\n",
    "    _, predicted = torch.max(outputs.data, 1)\n",
    "    \n",
    "    # evaluate the correct values agaist the total evaluated\n",
    "    correct += (predicted == labels.to(device)).sum().item()\n",
    "    total += labels.size(0)\n",
    "\n",
    "    print(f'Test [{i + 1}/{total_step}], Loss: {running_loss/total:.3e}, Acc: {correct/total*100:.1f}%', end='\\r')\n",
    "print(f'Test [{total_step}/{total_step}], Loss: {running_loss/total:.3e}, Acc: {correct/total*100:.1f}%')"
   ]
  },
  {
   "cell_type": "code",
   "execution_count": null,
   "id": "2e07c747",
   "metadata": {},
   "outputs": [],
   "source": []
  }
 ],
 "metadata": {
  "kernelspec": {
   "display_name": "Python 3 (ipykernel)",
   "language": "python",
   "name": "python3"
  },
  "language_info": {
   "codemirror_mode": {
    "name": "ipython",
    "version": 3
   },
   "file_extension": ".py",
   "mimetype": "text/x-python",
   "name": "python",
   "nbconvert_exporter": "python",
   "pygments_lexer": "ipython3",
   "version": "3.12.4"
  }
 },
 "nbformat": 4,
 "nbformat_minor": 5
}

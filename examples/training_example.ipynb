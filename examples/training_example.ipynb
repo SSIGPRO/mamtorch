{
 "cells": [
  {
   "cell_type": "code",
   "execution_count": 1,
   "id": "c453b48c-0364-41f9-a7f9-584aaf5af1ea",
   "metadata": {
    "tags": []
   },
   "outputs": [],
   "source": [
    "import time\n",
    "import numpy as np\n",
    "import matplotlib.pyplot as plt\n",
    "import torch\n",
    "import torch.nn as nn\n",
    "import torch.optim as optim\n",
    "from torchvision import datasets, transforms"
   ]
  },
  {
   "cell_type": "markdown",
   "id": "69cbf6bb-c63a-4c5c-ad11-1bffcf8e7805",
   "metadata": {
    "tags": []
   },
   "source": [
    "### Import mamtorch library\n",
    "To install mamtorch, in mamtorch root folder, \"pip install .\" (to improve compiling time, do this after installing ninja through \"pip install ninja\")"
   ]
  },
  {
   "cell_type": "code",
   "execution_count": 2,
   "id": "0fbd1d77-917f-4ece-b5d4-f57cf1d7bd9c",
   "metadata": {
    "tags": []
   },
   "outputs": [],
   "source": [
    "import mamtorch as mam"
   ]
  },
  {
   "cell_type": "markdown",
   "id": "ae1899e5-978d-454a-a560-cb4813660f9e",
   "metadata": {
    "tags": []
   },
   "source": [
    "### Select the GPU\n",
    "Currently, MAM kernels are implemented only for usage on GPU"
   ]
  },
  {
   "cell_type": "code",
   "execution_count": 3,
   "id": "42ec364b-ce3d-4f2a-b40e-8bc8981c43c5",
   "metadata": {
    "tags": []
   },
   "outputs": [],
   "source": [
    "# Select GPU\n",
    "gpu_id = 5\n",
    "# Check if the GPU is available, and if so, use it\n",
    "device = torch.device(f\"cuda:{gpu_id}\" if torch.cuda.is_available() else \"cpu\")\n",
    "# You need a gpu to use MAM kernel! (No cpu-based implementation available)\n",
    "if(device == \"cpu\"):\n",
    "    raise \"No GPU device available! MAM kernels are not available.\""
   ]
  },
  {
   "cell_type": "markdown",
   "id": "9be7e2ad-bf12-419f-a122-a85d265d799e",
   "metadata": {
    "tags": []
   },
   "source": [
    "### Define a simple feedforward DNN containing a MAM layer"
   ]
  },
  {
   "cell_type": "code",
   "execution_count": 4,
   "id": "331b63f4-583b-4f30-bdd4-4380f1d92d58",
   "metadata": {
    "tags": []
   },
   "outputs": [],
   "source": [
    "compute_exact = False\n",
    "vcon_expand = True\n",
    "vcon_epochs = 10\n",
    "splits = 1\n",
    "\n",
    "# Define a simple feedforward neural network\n",
    "class SimpleNN(nn.Module):\n",
    "    def __init__(self, input_size, hidden_size1, hidden_size2, num_classes, vcon_steps):\n",
    "        super(SimpleNN, self).__init__()\n",
    "        # Instantiate a MAC fc layer\n",
    "        self.fc1 = mam.nn.FullyConnected(input_size, hidden_size1, bias=True, splits=splits, vcon_steps=vcon_steps, vcon_type='exponential', vcon_expand=vcon_expand, compute_exact=True)\n",
    "        self.relu1 = nn.ReLU()\n",
    "        \n",
    "        # Instantiate a MAM fc layer\n",
    "        self.fc2_mam = mam.nn.FullyConnected(hidden_size1, hidden_size2, bias=True, splits=splits, vcon_steps=vcon_steps, vcon_type='exponential', vcon_expand=vcon_expand, compute_exact=True)\n",
    "        self.relu2 = nn.ReLU()\n",
    "        \n",
    "        # Instantiate the output layer\n",
    "        self.fc3 = mam.nn.FullyConnected(hidden_size2, num_classes, bias=True, splits=splits, vcon_steps=vcon_steps, vcon_type='exponential', vcon_expand=vcon_expand, compute_exact=True)\n",
    "\n",
    "    def forward(self, x):\n",
    "        x = self.fc1(x)\n",
    "        x = self.relu1(x)\n",
    "        x = self.fc2_mam(x)\n",
    "        x = self.relu2(x)\n",
    "        x = self.fc3(x)\n",
    "        return x\n",
    "    \n",
    "# Hyperparameters\n",
    "input_size = 28 * 28  # MNIST image size\n",
    "hidden_size1 = 512\n",
    "hidden_size2 = 256\n",
    "num_classes = 10\n",
    "learning_rate = 0.001\n",
    "batch_size = 64\n",
    "num_epochs = 100"
   ]
  },
  {
   "cell_type": "markdown",
   "id": "b74fe1d2-ac19-4570-b311-ab984865dac6",
   "metadata": {
    "tags": []
   },
   "source": [
    "Load MNIST dataset and apply transformations"
   ]
  },
  {
   "cell_type": "code",
   "execution_count": 5,
   "id": "902c52ec-cf35-4712-a285-23257c6e4960",
   "metadata": {
    "tags": []
   },
   "outputs": [],
   "source": [
    "num_workers = 2 # increase this to use more threads to manage data\n",
    "\n",
    "transform = transforms.Compose([transforms.ToTensor(), transforms.Normalize((0.5,), (0.5,))])\n",
    "train_dataset = datasets.FashionMNIST(root='./data', train=True, transform=transform, download=True)\n",
    "train_loader = torch.utils.data.DataLoader(dataset=train_dataset, batch_size=batch_size, shuffle=True)\n",
    "valtest_dataset = datasets.FashionMNIST(root='./data', train=False, transform=transform, download=True)\n",
    "val_dataset, test_dataset = torch.utils.data.random_split(valtest_dataset, [0.5, 0.5], generator=torch.Generator().manual_seed(42))\n",
    "val_loader = torch.utils.data.DataLoader(val_dataset, batch_size=batch_size, shuffle=True, num_workers=num_workers, pin_memory=True)\n",
    "test_loader = torch.utils.data.DataLoader(test_dataset, batch_size=batch_size, shuffle=False, num_workers=num_workers, pin_memory=True)"
   ]
  },
  {
   "cell_type": "markdown",
   "id": "5f3c1f59-a927-43cd-b13d-f709316049ad",
   "metadata": {
    "tags": []
   },
   "source": [
    "Initialize the model, loss function, and optimizer"
   ]
  },
  {
   "cell_type": "code",
   "execution_count": 6,
   "id": "5ac67d50-250c-4f8d-bffe-1e828fb94362",
   "metadata": {
    "tags": []
   },
   "outputs": [],
   "source": [
    "vcon_steps = vcon_epochs*len(train_loader)\n",
    "model = SimpleNN(input_size, hidden_size1, hidden_size2, num_classes, vcon_steps).to(device)\n",
    "criterion = nn.CrossEntropyLoss()\n",
    "optimizer = optim.Adam(model.parameters(), lr=learning_rate)"
   ]
  },
  {
   "cell_type": "markdown",
   "id": "754e2f5c-4e59-41ff-ae30-d66e1daabe62",
   "metadata": {
    "tags": []
   },
   "source": [
    "### Train the network"
   ]
  },
  {
   "cell_type": "code",
   "execution_count": 7,
   "id": "05729cd3-8f17-4235-acd1-4263fc555306",
   "metadata": {
    "tags": []
   },
   "outputs": [
    {
     "name": "stdout",
     "output_type": "stream",
     "text": [
      "Epoch [1/100]\n",
      "Training [938/938], Loss: 6.559e-02, Acc: 74.5%\n",
      "Validation [79/79], Loss: 2.160e-01, Acc: 65.5%%\n",
      "Latest beta value: 0.5011872336272466\n",
      "Elapsed time = 10.735 s\n",
      "Epoch [2/100]\n",
      "Training [938/938], Loss: 6.231e-01, Acc: 73.7%\n",
      "Validation [79/79], Loss: 1.303e+00, Acc: 77.1%%\n",
      "Latest beta value: 0.25118864315093237\n",
      "Elapsed time = 10.848 s\n",
      "Epoch [3/100]\n",
      "Training [938/938], Loss: 1.758e+00, Acc: 73.2%\n",
      "Validation [79/79], Loss: 1.736e+00, Acc: 74.7%%\n",
      "Latest beta value: 0.1258925411793972\n",
      "Elapsed time = 10.719 s\n",
      "Epoch [4/100]\n",
      "Training [938/938], Loss: 3.073e+00, Acc: 71.6%\n",
      "Validation [79/79], Loss: 4.172e+00, Acc: 65.0%%\n",
      "Latest beta value: 0.06309573444800635\n",
      "Elapsed time = 10.680 s\n",
      "Epoch [5/100]\n",
      "Training [938/938], Loss: 4.947e+00, Acc: 67.8%\n",
      "Validation [79/79], Loss: 4.398e+00, Acc: 73.5%%\n",
      "Latest beta value: 0.03162277660167565\n",
      "Elapsed time = 9.976 s\n",
      "Epoch [6/100]\n",
      "Training [938/938], Loss: 5.857e+00, Acc: 65.3%\n",
      "Validation [79/79], Loss: 8.490e+00, Acc: 54.7%%\n",
      "Latest beta value: 0.01584893192460623\n",
      "Elapsed time = 10.511 s\n",
      "Epoch [7/100]\n",
      "Training [938/938], Loss: 6.969e+00, Acc: 63.8%\n",
      "Validation [79/79], Loss: 5.645e+00, Acc: 68.9%%\n",
      "Latest beta value: 0.007943282347239943\n",
      "Elapsed time = 10.700 s\n",
      "Epoch [8/100]\n",
      "Training [938/938], Loss: 7.498e+00, Acc: 63.1%\n",
      "Validation [79/79], Loss: 1.159e+01, Acc: 62.6%%\n",
      "Latest beta value: 0.00398107170553333\n",
      "Elapsed time = 10.826 s\n",
      "Epoch [9/100]\n",
      "Training [938/938], Loss: 6.801e+00, Acc: 64.0%\n",
      "Validation [79/79], Loss: 1.360e+01, Acc: 53.3%%\n",
      "Latest beta value: 0.0019952623149679547\n",
      "Elapsed time = 11.151 s\n",
      "Epoch [10/100]\n",
      "Training [938/938], Loss: 6.794e+00, Acc: 64.3%\n",
      "Validation [79/79], Loss: 3.635e-02, Acc: 9.8%%%\n",
      "Latest beta value: 0\n",
      "Elapsed time = 10.241 s\n",
      "Epoch [11/100]\n",
      "Training [938/938], Loss: 3.593e-02, Acc: 10.2%\n",
      "Validation [79/79], Loss: 3.630e-02, Acc: 9.5%%%\n",
      "Latest beta value: 0\n",
      "Elapsed time = 9.803 s\n",
      "Epoch [12/100]\n",
      "Training [938/938], Loss: 3.592e-02, Acc: 12.6%\n",
      "Validation [79/79], Loss: 3.630e-02, Acc: 16.1%%\n",
      "Latest beta value: 0\n",
      "Elapsed time = 9.650 s\n",
      "Epoch [13/100]\n",
      "Training [938/938], Loss: 3.591e-02, Acc: 15.5%\n",
      "Validation [79/79], Loss: 3.629e-02, Acc: 19.9%%\n",
      "Latest beta value: 0\n",
      "Elapsed time = 9.685 s\n",
      "Epoch [14/100]\n",
      "Training [938/938], Loss: 3.591e-02, Acc: 20.2%\n",
      "Validation [79/79], Loss: 3.629e-02, Acc: 24.0%%\n",
      "Latest beta value: 0\n",
      "Elapsed time = 9.722 s\n",
      "Epoch [15/100]\n",
      "Training [938/938], Loss: 3.591e-02, Acc: 15.8%\n",
      "Validation [79/79], Loss: 3.629e-02, Acc: 17.6%%\n",
      "Latest beta value: 0\n",
      "Elapsed time = 9.695 s\n",
      "Epoch [16/100]\n",
      "Training [938/938], Loss: 3.591e-02, Acc: 17.8%\n",
      "Validation [79/79], Loss: 3.628e-02, Acc: 20.7%%\n",
      "Latest beta value: 0\n",
      "Elapsed time = 9.760 s\n",
      "Epoch [17/100]\n",
      "Training [938/938], Loss: 3.582e-02, Acc: 17.8%\n",
      "Validation [79/79], Loss: 3.608e-02, Acc: 18.8%%\n",
      "Latest beta value: 0\n",
      "Elapsed time = 10.145 s\n",
      "Epoch [18/100]\n",
      "Training [938/938], Loss: 3.554e-02, Acc: 18.7%\n",
      "Validation [79/79], Loss: 3.568e-02, Acc: 26.0%%\n",
      "Latest beta value: 0\n",
      "Elapsed time = 9.834 s\n",
      "Epoch [19/100]\n",
      "Training [486/938], Loss: 3.503e-02, Acc: 21.5%\r"
     ]
    },
    {
     "ename": "KeyboardInterrupt",
     "evalue": "",
     "output_type": "error",
     "traceback": [
      "\u001b[0;31m---------------------------------------------------------------------------\u001b[0m",
      "\u001b[0;31mKeyboardInterrupt\u001b[0m                         Traceback (most recent call last)",
      "Cell \u001b[0;32mIn[7], line 18\u001b[0m\n\u001b[1;32m     15\u001b[0m running_loss \u001b[38;5;241m=\u001b[39m \u001b[38;5;241m0\u001b[39m\n\u001b[1;32m     16\u001b[0m total_step \u001b[38;5;241m=\u001b[39m \u001b[38;5;28mlen\u001b[39m(train_loader)\n\u001b[0;32m---> 18\u001b[0m \u001b[43m\u001b[49m\u001b[38;5;28;43;01mfor\u001b[39;49;00m\u001b[43m \u001b[49m\u001b[43mi\u001b[49m\u001b[43m,\u001b[49m\u001b[43m \u001b[49m\u001b[43m(\u001b[49m\u001b[43mimages\u001b[49m\u001b[43m,\u001b[49m\u001b[43m \u001b[49m\u001b[43mlabels\u001b[49m\u001b[43m)\u001b[49m\u001b[43m \u001b[49m\u001b[38;5;129;43;01min\u001b[39;49;00m\u001b[43m \u001b[49m\u001b[38;5;28;43menumerate\u001b[39;49m\u001b[43m(\u001b[49m\u001b[43mtrain_loader\u001b[49m\u001b[43m)\u001b[49m\u001b[43m:\u001b[49m\n\u001b[1;32m     19\u001b[0m \u001b[43m    \u001b[49m\u001b[43mimages\u001b[49m\u001b[43m \u001b[49m\u001b[38;5;241;43m=\u001b[39;49m\u001b[43m \u001b[49m\u001b[43mimages\u001b[49m\u001b[38;5;241;43m.\u001b[39;49m\u001b[43mview\u001b[49m\u001b[43m(\u001b[49m\u001b[38;5;241;43m-\u001b[39;49m\u001b[38;5;241;43m1\u001b[39;49m\u001b[43m,\u001b[49m\u001b[43m \u001b[49m\u001b[38;5;241;43m28\u001b[39;49m\u001b[43m \u001b[49m\u001b[38;5;241;43m*\u001b[39;49m\u001b[43m \u001b[49m\u001b[38;5;241;43m28\u001b[39;49m\u001b[43m)\u001b[49m\u001b[38;5;241;43m.\u001b[39;49m\u001b[43mto\u001b[49m\u001b[43m(\u001b[49m\u001b[43mdevice\u001b[49m\u001b[43m)\u001b[49m\u001b[43m  \u001b[49m\u001b[38;5;66;43;03m# Flatten the input images\u001b[39;49;00m\n\u001b[1;32m     20\u001b[0m \u001b[43m    \u001b[49m\u001b[43moutputs\u001b[49m\u001b[43m \u001b[49m\u001b[38;5;241;43m=\u001b[39;49m\u001b[43m \u001b[49m\u001b[43mmodel\u001b[49m\u001b[43m(\u001b[49m\u001b[43mimages\u001b[49m\u001b[43m)\u001b[49m\n",
      "File \u001b[0;32m~/miniconda3/envs/pytorch/lib/python3.12/site-packages/torch/utils/data/dataloader.py:630\u001b[0m, in \u001b[0;36m_BaseDataLoaderIter.__next__\u001b[0;34m(self)\u001b[0m\n\u001b[1;32m    627\u001b[0m \u001b[38;5;28;01mif\u001b[39;00m \u001b[38;5;28mself\u001b[39m\u001b[38;5;241m.\u001b[39m_sampler_iter \u001b[38;5;129;01mis\u001b[39;00m \u001b[38;5;28;01mNone\u001b[39;00m:\n\u001b[1;32m    628\u001b[0m     \u001b[38;5;66;03m# TODO(https://github.com/pytorch/pytorch/issues/76750)\u001b[39;00m\n\u001b[1;32m    629\u001b[0m     \u001b[38;5;28mself\u001b[39m\u001b[38;5;241m.\u001b[39m_reset()  \u001b[38;5;66;03m# type: ignore[call-arg]\u001b[39;00m\n\u001b[0;32m--> 630\u001b[0m data \u001b[38;5;241m=\u001b[39m \u001b[38;5;28;43mself\u001b[39;49m\u001b[38;5;241;43m.\u001b[39;49m\u001b[43m_next_data\u001b[49m\u001b[43m(\u001b[49m\u001b[43m)\u001b[49m\n\u001b[1;32m    631\u001b[0m \u001b[38;5;28mself\u001b[39m\u001b[38;5;241m.\u001b[39m_num_yielded \u001b[38;5;241m+\u001b[39m\u001b[38;5;241m=\u001b[39m \u001b[38;5;241m1\u001b[39m\n\u001b[1;32m    632\u001b[0m \u001b[38;5;28;01mif\u001b[39;00m \u001b[38;5;28mself\u001b[39m\u001b[38;5;241m.\u001b[39m_dataset_kind \u001b[38;5;241m==\u001b[39m _DatasetKind\u001b[38;5;241m.\u001b[39mIterable \u001b[38;5;129;01mand\u001b[39;00m \\\n\u001b[1;32m    633\u001b[0m         \u001b[38;5;28mself\u001b[39m\u001b[38;5;241m.\u001b[39m_IterableDataset_len_called \u001b[38;5;129;01mis\u001b[39;00m \u001b[38;5;129;01mnot\u001b[39;00m \u001b[38;5;28;01mNone\u001b[39;00m \u001b[38;5;129;01mand\u001b[39;00m \\\n\u001b[1;32m    634\u001b[0m         \u001b[38;5;28mself\u001b[39m\u001b[38;5;241m.\u001b[39m_num_yielded \u001b[38;5;241m>\u001b[39m \u001b[38;5;28mself\u001b[39m\u001b[38;5;241m.\u001b[39m_IterableDataset_len_called:\n",
      "File \u001b[0;32m~/miniconda3/envs/pytorch/lib/python3.12/site-packages/torch/utils/data/dataloader.py:673\u001b[0m, in \u001b[0;36m_SingleProcessDataLoaderIter._next_data\u001b[0;34m(self)\u001b[0m\n\u001b[1;32m    671\u001b[0m \u001b[38;5;28;01mdef\u001b[39;00m \u001b[38;5;21m_next_data\u001b[39m(\u001b[38;5;28mself\u001b[39m):\n\u001b[1;32m    672\u001b[0m     index \u001b[38;5;241m=\u001b[39m \u001b[38;5;28mself\u001b[39m\u001b[38;5;241m.\u001b[39m_next_index()  \u001b[38;5;66;03m# may raise StopIteration\u001b[39;00m\n\u001b[0;32m--> 673\u001b[0m     data \u001b[38;5;241m=\u001b[39m \u001b[38;5;28;43mself\u001b[39;49m\u001b[38;5;241;43m.\u001b[39;49m\u001b[43m_dataset_fetcher\u001b[49m\u001b[38;5;241;43m.\u001b[39;49m\u001b[43mfetch\u001b[49m\u001b[43m(\u001b[49m\u001b[43mindex\u001b[49m\u001b[43m)\u001b[49m  \u001b[38;5;66;03m# may raise StopIteration\u001b[39;00m\n\u001b[1;32m    674\u001b[0m     \u001b[38;5;28;01mif\u001b[39;00m \u001b[38;5;28mself\u001b[39m\u001b[38;5;241m.\u001b[39m_pin_memory:\n\u001b[1;32m    675\u001b[0m         data \u001b[38;5;241m=\u001b[39m _utils\u001b[38;5;241m.\u001b[39mpin_memory\u001b[38;5;241m.\u001b[39mpin_memory(data, \u001b[38;5;28mself\u001b[39m\u001b[38;5;241m.\u001b[39m_pin_memory_device)\n",
      "File \u001b[0;32m~/miniconda3/envs/pytorch/lib/python3.12/site-packages/torch/utils/data/_utils/fetch.py:52\u001b[0m, in \u001b[0;36m_MapDatasetFetcher.fetch\u001b[0;34m(self, possibly_batched_index)\u001b[0m\n\u001b[1;32m     50\u001b[0m         data \u001b[38;5;241m=\u001b[39m \u001b[38;5;28mself\u001b[39m\u001b[38;5;241m.\u001b[39mdataset\u001b[38;5;241m.\u001b[39m__getitems__(possibly_batched_index)\n\u001b[1;32m     51\u001b[0m     \u001b[38;5;28;01melse\u001b[39;00m:\n\u001b[0;32m---> 52\u001b[0m         data \u001b[38;5;241m=\u001b[39m [\u001b[38;5;28;43mself\u001b[39;49m\u001b[38;5;241;43m.\u001b[39;49m\u001b[43mdataset\u001b[49m\u001b[43m[\u001b[49m\u001b[43midx\u001b[49m\u001b[43m]\u001b[49m \u001b[38;5;28;01mfor\u001b[39;00m idx \u001b[38;5;129;01min\u001b[39;00m possibly_batched_index]\n\u001b[1;32m     53\u001b[0m \u001b[38;5;28;01melse\u001b[39;00m:\n\u001b[1;32m     54\u001b[0m     data \u001b[38;5;241m=\u001b[39m \u001b[38;5;28mself\u001b[39m\u001b[38;5;241m.\u001b[39mdataset[possibly_batched_index]\n",
      "File \u001b[0;32m~/miniconda3/envs/pytorch/lib/python3.12/site-packages/torchvision/datasets/mnist.py:146\u001b[0m, in \u001b[0;36mMNIST.__getitem__\u001b[0;34m(self, index)\u001b[0m\n\u001b[1;32m    143\u001b[0m img \u001b[38;5;241m=\u001b[39m Image\u001b[38;5;241m.\u001b[39mfromarray(img\u001b[38;5;241m.\u001b[39mnumpy(), mode\u001b[38;5;241m=\u001b[39m\u001b[38;5;124m\"\u001b[39m\u001b[38;5;124mL\u001b[39m\u001b[38;5;124m\"\u001b[39m)\n\u001b[1;32m    145\u001b[0m \u001b[38;5;28;01mif\u001b[39;00m \u001b[38;5;28mself\u001b[39m\u001b[38;5;241m.\u001b[39mtransform \u001b[38;5;129;01mis\u001b[39;00m \u001b[38;5;129;01mnot\u001b[39;00m \u001b[38;5;28;01mNone\u001b[39;00m:\n\u001b[0;32m--> 146\u001b[0m     img \u001b[38;5;241m=\u001b[39m \u001b[38;5;28;43mself\u001b[39;49m\u001b[38;5;241;43m.\u001b[39;49m\u001b[43mtransform\u001b[49m\u001b[43m(\u001b[49m\u001b[43mimg\u001b[49m\u001b[43m)\u001b[49m\n\u001b[1;32m    148\u001b[0m \u001b[38;5;28;01mif\u001b[39;00m \u001b[38;5;28mself\u001b[39m\u001b[38;5;241m.\u001b[39mtarget_transform \u001b[38;5;129;01mis\u001b[39;00m \u001b[38;5;129;01mnot\u001b[39;00m \u001b[38;5;28;01mNone\u001b[39;00m:\n\u001b[1;32m    149\u001b[0m     target \u001b[38;5;241m=\u001b[39m \u001b[38;5;28mself\u001b[39m\u001b[38;5;241m.\u001b[39mtarget_transform(target)\n",
      "File \u001b[0;32m~/miniconda3/envs/pytorch/lib/python3.12/site-packages/torchvision/transforms/transforms.py:95\u001b[0m, in \u001b[0;36mCompose.__call__\u001b[0;34m(self, img)\u001b[0m\n\u001b[1;32m     93\u001b[0m \u001b[38;5;28;01mdef\u001b[39;00m \u001b[38;5;21m__call__\u001b[39m(\u001b[38;5;28mself\u001b[39m, img):\n\u001b[1;32m     94\u001b[0m     \u001b[38;5;28;01mfor\u001b[39;00m t \u001b[38;5;129;01min\u001b[39;00m \u001b[38;5;28mself\u001b[39m\u001b[38;5;241m.\u001b[39mtransforms:\n\u001b[0;32m---> 95\u001b[0m         img \u001b[38;5;241m=\u001b[39m \u001b[43mt\u001b[49m\u001b[43m(\u001b[49m\u001b[43mimg\u001b[49m\u001b[43m)\u001b[49m\n\u001b[1;32m     96\u001b[0m     \u001b[38;5;28;01mreturn\u001b[39;00m img\n",
      "File \u001b[0;32m~/miniconda3/envs/pytorch/lib/python3.12/site-packages/torchvision/transforms/transforms.py:137\u001b[0m, in \u001b[0;36mToTensor.__call__\u001b[0;34m(self, pic)\u001b[0m\n\u001b[1;32m    129\u001b[0m \u001b[38;5;28;01mdef\u001b[39;00m \u001b[38;5;21m__call__\u001b[39m(\u001b[38;5;28mself\u001b[39m, pic):\n\u001b[1;32m    130\u001b[0m \u001b[38;5;250m    \u001b[39m\u001b[38;5;124;03m\"\"\"\u001b[39;00m\n\u001b[1;32m    131\u001b[0m \u001b[38;5;124;03m    Args:\u001b[39;00m\n\u001b[1;32m    132\u001b[0m \u001b[38;5;124;03m        pic (PIL Image or numpy.ndarray): Image to be converted to tensor.\u001b[39;00m\n\u001b[0;32m   (...)\u001b[0m\n\u001b[1;32m    135\u001b[0m \u001b[38;5;124;03m        Tensor: Converted image.\u001b[39;00m\n\u001b[1;32m    136\u001b[0m \u001b[38;5;124;03m    \"\"\"\u001b[39;00m\n\u001b[0;32m--> 137\u001b[0m     \u001b[38;5;28;01mreturn\u001b[39;00m \u001b[43mF\u001b[49m\u001b[38;5;241;43m.\u001b[39;49m\u001b[43mto_tensor\u001b[49m\u001b[43m(\u001b[49m\u001b[43mpic\u001b[49m\u001b[43m)\u001b[49m\n",
      "File \u001b[0;32m~/miniconda3/envs/pytorch/lib/python3.12/site-packages/torchvision/transforms/functional.py:176\u001b[0m, in \u001b[0;36mto_tensor\u001b[0;34m(pic)\u001b[0m\n\u001b[1;32m    174\u001b[0m img \u001b[38;5;241m=\u001b[39m img\u001b[38;5;241m.\u001b[39mpermute((\u001b[38;5;241m2\u001b[39m, \u001b[38;5;241m0\u001b[39m, \u001b[38;5;241m1\u001b[39m))\u001b[38;5;241m.\u001b[39mcontiguous()\n\u001b[1;32m    175\u001b[0m \u001b[38;5;28;01mif\u001b[39;00m \u001b[38;5;28misinstance\u001b[39m(img, torch\u001b[38;5;241m.\u001b[39mByteTensor):\n\u001b[0;32m--> 176\u001b[0m     \u001b[38;5;28;01mreturn\u001b[39;00m \u001b[43mimg\u001b[49m\u001b[38;5;241;43m.\u001b[39;49m\u001b[43mto\u001b[49m\u001b[43m(\u001b[49m\u001b[43mdtype\u001b[49m\u001b[38;5;241;43m=\u001b[39;49m\u001b[43mdefault_float_dtype\u001b[49m\u001b[43m)\u001b[49m\u001b[38;5;241;43m.\u001b[39;49m\u001b[43mdiv\u001b[49m\u001b[43m(\u001b[49m\u001b[38;5;241;43m255\u001b[39;49m\u001b[43m)\u001b[49m\n\u001b[1;32m    177\u001b[0m \u001b[38;5;28;01melse\u001b[39;00m:\n\u001b[1;32m    178\u001b[0m     \u001b[38;5;28;01mreturn\u001b[39;00m img\n",
      "\u001b[0;31mKeyboardInterrupt\u001b[0m: "
     ]
    }
   ],
   "source": [
    "# Initialize the selection matrix list.\n",
    "# Here, for each training epoch, we store the number of times each interconnection has been used\n",
    "# I.E., the selection count\n",
    "selection_matrix_list = []\n",
    "\n",
    "# Training loop\n",
    "for epoch in range(num_epochs):\n",
    "    start_time = time.perf_counter()\n",
    "    print(f\"Epoch [{epoch + 1}/{num_epochs}]\")\n",
    "\n",
    "    model.train() # se training mode\n",
    "\n",
    "    correct = 0\n",
    "    total = 0\n",
    "    running_loss = 0\n",
    "    total_step = len(train_loader)\n",
    "\n",
    "    for i, (images, labels) in enumerate(train_loader):\n",
    "        images = images.view(-1, 28 * 28).to(device)  # Flatten the input images\n",
    "        outputs = model(images)\n",
    "        \n",
    "        loss = criterion(outputs, labels.to(device))\n",
    "\n",
    "        optimizer.zero_grad()\n",
    "        loss.backward()\n",
    "        optimizer.step()\n",
    "\n",
    "        running_loss += loss.item()\n",
    "\n",
    "        # get the predicted class\n",
    "        _, predicted = torch.max(outputs.data, 1)\n",
    "\n",
    "        # evaluate the correct values agaist the total evaluated\n",
    "        correct += (predicted == labels.to(device)).sum().item()\n",
    "        total += labels.size(0)\n",
    "\n",
    "        # update beta values\n",
    "        model.fc1.vcon_step()\n",
    "        model.fc2_mam.vcon_step()\n",
    "        model.fc3.vcon_step()\n",
    "\n",
    "        print(f'Training [{i + 1}/{total_step}], Loss: {running_loss/total:.3e}, Acc: {correct/total*100:.1f}%', end='\\r')\n",
    "    print(f'Training [{total_step}/{total_step}], Loss: {running_loss/total:.3e}, Acc: {correct/total*100:.1f}%')\n",
    "\n",
    "    model.eval() # set evaluation mode\n",
    "    \n",
    "    correct = 0\n",
    "    total = 0\n",
    "    running_loss = 0\n",
    "    total_step = len(val_loader)\n",
    "    for images, labels in val_loader:\n",
    "        images = images.view(-1, 28 * 28).to(device)  # Flatten the input images\n",
    "        outputs = model(images)\n",
    "        loss = criterion(outputs, labels.to(device))\n",
    "        \n",
    "        running_loss += loss\n",
    "        \n",
    "        # get the predicted class\n",
    "        _, predicted = torch.max(outputs.data, 1)\n",
    "        \n",
    "        # evaluate the correct values agaist the total evaluated\n",
    "        correct += (predicted == labels.to(device)).sum().item()\n",
    "        total += labels.size(0)\n",
    "\n",
    "        print(f'Validation [{i + 1}/{total_step}], Loss: {running_loss/total:.3e}, Acc: {correct/total*100:.1f}%', end='\\r')\n",
    "    print(f'Validation [{total_step}/{total_step}], Loss: {running_loss/total:.3e}, Acc: {correct/total*100:.1f}%')\n",
    "    \n",
    "    # update the value of beta for vanishing contributes\n",
    "    print(\"Latest beta value:\", model.fc2_mam.beta)\n",
    "    \n",
    "    print(f\"Elapsed time = {time.perf_counter()-start_time:.3f} s\")\n",
    "    \n",
    "print(\"Training end.\")"
   ]
  },
  {
   "cell_type": "code",
   "execution_count": null,
   "id": "887b0ceb",
   "metadata": {},
   "outputs": [
    {
     "name": "stdout",
     "output_type": "stream",
     "text": [
      "Test [79/79], Loss: 7.321e-03, Acc: 82.9%%\n"
     ]
    }
   ],
   "source": [
    "# Test the model on the test dataset\n",
    "model.eval() # set evaluation mode\n",
    "\n",
    "correct = 0\n",
    "total = 0\n",
    "running_loss = 0\n",
    "total_step = len(val_loader)\n",
    "for images, labels in test_loader:\n",
    "    images = images.view(-1, 28 * 28).to(device)  # Flatten the input images\n",
    "    outputs = model(images)\n",
    "    loss = criterion(outputs, labels.to(device))\n",
    "    \n",
    "    running_loss += loss\n",
    "    \n",
    "    # get the predicted class\n",
    "    _, predicted = torch.max(outputs.data, 1)\n",
    "    \n",
    "    # evaluate the correct values agaist the total evaluated\n",
    "    correct += (predicted == labels.to(device)).sum().item()\n",
    "    total += labels.size(0)\n",
    "\n",
    "    print(f'Test [{i + 1}/{total_step}], Loss: {running_loss/total:.3e}, Acc: {correct/total*100:.1f}%', end='\\r')\n",
    "print(f'Test [{total_step}/{total_step}], Loss: {running_loss/total:.3e}, Acc: {correct/total*100:.1f}%')"
   ]
  },
  {
   "cell_type": "code",
   "execution_count": null,
   "id": "2e07c747",
   "metadata": {},
   "outputs": [],
   "source": []
  }
 ],
 "metadata": {
  "kernelspec": {
   "display_name": "pytorch",
   "language": "python",
   "name": "python3"
  },
  "language_info": {
   "codemirror_mode": {
    "name": "ipython",
    "version": 3
   },
   "file_extension": ".py",
   "mimetype": "text/x-python",
   "name": "python",
   "nbconvert_exporter": "python",
   "pygments_lexer": "ipython3",
   "version": "3.12.4"
  }
 },
 "nbformat": 4,
 "nbformat_minor": 5
}
